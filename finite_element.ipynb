{
 "cells": [
  {
   "cell_type": "code",
   "execution_count": 2,
   "id": "faa16188",
   "metadata": {},
   "outputs": [],
   "source": [
    "import numpy as np\n",
    "import matplotlib.pyplot as plt"
   ]
  },
  {
   "cell_type": "code",
   "execution_count": 3,
   "id": "ac2e9bc6",
   "metadata": {},
   "outputs": [],
   "source": [
    "# Define problem parameters\n",
    "L = 1\n",
    "nx = ny = 50\n",
    "dx = dy = L/(nx-1)\n",
    "\n",
    "# Define source function\n",
    "f = lambda x,y: 0\n",
    "\n",
    "# Define boundary conditions\n",
    "def bc(x,y):\n",
    "    if x == 0 or x == L or y == 0 or y == L:\n",
    "        return 1\n",
    "    else:\n",
    "        return 0\n"
   ]
  },
  {
   "cell_type": "code",
   "execution_count": 4,
   "id": "ab50e2c5",
   "metadata": {},
   "outputs": [],
   "source": [
    "# Create grid for plotting\n",
    "x = np.linspace(0, L, nx)\n",
    "y = np.linspace(0, L, ny)\n",
    "X, Y = np.meshgrid(x, y)"
   ]
  },
  {
   "cell_type": "code",
   "execution_count": 5,
   "id": "2717fbfe",
   "metadata": {},
   "outputs": [],
   "source": [
    "# Assemble stiffness matrix and load vector\n",
    "K = np.zeros((nx*ny, nx*ny))\n",
    "F = np.zeros(nx*ny)\n",
    "for i in range(nx):\n",
    "    for j in range(ny):\n",
    "        n = j*nx + i\n",
    "        K[n,n] += 2/(dx*dx) + 2/(dy*dy)\n",
    "        if i > 0:\n",
    "            K[n,n-1] -= 1/(dx*dx)\n",
    "        if i < nx-1:\n",
    "            K[n,n+1] -= 1/(dx*dx)\n",
    "        if j > 0:\n",
    "            K[n,n-nx] -= 1/(dy*dy)\n",
    "        if j < ny-1:\n",
    "            K[n,n+nx] -= 1/(dy*dy)\n",
    "        F[n] = f(x[i], y[j])\n"
   ]
  },
  {
   "cell_type": "code",
   "execution_count": 6,
   "id": "76aaed16",
   "metadata": {},
   "outputs": [],
   "source": [
    "# Apply boundary conditions\n",
    "for i in range(nx):\n",
    "    for j in range(ny):\n",
    "        n = j*nx + i\n",
    "        if bc(x[i], y[j]) == 1:\n",
    "            K[n,:] = 0\n",
    "            K[n,n] = 1\n",
    "            F[n] = bc(x[i], y[j])\n"
   ]
  },
  {
   "cell_type": "code",
   "execution_count": 9,
   "id": "db3a0024",
   "metadata": {},
   "outputs": [],
   "source": [
    "# Solve system of equations\n",
    "u = np.linalg.solve(K, F)"
   ]
  },
  {
   "cell_type": "code",
   "execution_count": 11,
   "id": "fe4724c6",
   "metadata": {},
   "outputs": [
    {
     "data": {
      "text/plain": [
       "array([1., 1., 1., ..., 1., 1., 1.])"
      ]
     },
     "execution_count": 11,
     "metadata": {},
     "output_type": "execute_result"
    }
   ],
   "source": [
    "u"
   ]
  },
  {
   "cell_type": "code",
   "execution_count": 13,
   "id": "73a09bbc",
   "metadata": {},
   "outputs": [
    {
     "data": {
      "text/plain": [
       "array([[1., 1., 1., ..., 1., 1., 1.],\n",
       "       [1., 1., 1., ..., 1., 1., 1.],\n",
       "       [1., 1., 1., ..., 1., 1., 1.],\n",
       "       ...,\n",
       "       [1., 1., 1., ..., 1., 1., 1.],\n",
       "       [1., 1., 1., ..., 1., 1., 1.],\n",
       "       [1., 1., 1., ..., 1., 1., 1.]])"
      ]
     },
     "execution_count": 13,
     "metadata": {},
     "output_type": "execute_result"
    }
   ],
   "source": [
    "# Reshape solution into 2D array for plotting\n",
    "U = np.reshape(u, (ny, nx))\n",
    "U"
   ]
  },
  {
   "cell_type": "code",
   "execution_count": 14,
   "id": "54c6de3d",
   "metadata": {},
   "outputs": [
    {
     "data": {
      "image/png": "[encoded data removed]",
      "text/plain": [
       "<Figure size 640x480 with 2 Axes>"
      ]
     },
     "metadata": {},
     "output_type": "display_data"
    }
   ],
   "source": [
    "# Create contour plot of solution\n",
    "plt.contourf(X, Y, U)\n",
    "plt.colorbar()\n",
    "plt.xlabel('x')\n",
    "plt.ylabel('y')\n",
    "plt.title('Finite Element Solution')\n",
    "plt.savefig(\"fig.png\")"
   ]
  },
  {
   "cell_type": "code",
   "execution_count": null,
   "id": "49109895",
   "metadata": {},
   "outputs": [],
   "source": []
  }
 ],
 "metadata": {
  "kernelspec": {
   "display_name": "Python 3 (ipykernel)",
   "language": "python",
   "name": "python3"
  },
  "language_info": {
   "codemirror_mode": {
    "name": "ipython",
    "version": 3
   },
   "file_extension": ".py",
   "mimetype": "text/x-python",
   "name": "python",
   "nbconvert_exporter": "python",
   "pygments_lexer": "ipython3",
   "version": "3.10.6"
  }
 },
 "nbformat": 4,
 "nbformat_minor": 5
}
